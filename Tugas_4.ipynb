{
  "nbformat": 4,
  "nbformat_minor": 0,
  "metadata": {
    "colab": {
      "provenance": []
    },
    "kernelspec": {
      "name": "python3",
      "display_name": "Python 3"
    },
    "language_info": {
      "name": "python"
    }
  },
  "cells": [
    {
      "cell_type": "code",
      "execution_count": null,
      "metadata": {
        "id": "e3IoLTW1OnKM"
      },
      "outputs": [],
      "source": [
        "import matplotlib.pyplot as plt"
      ]
    },
    {
      "cell_type": "code",
      "source": [
        "print (\"====NUMBER 1=====\")\n",
        "a = 96000\n",
        "b = 104000\n",
        "\n",
        "hasil = (a + b)\n",
        "\n",
        "print (\"Pesanan ahmad \" + str(hasil))\n",
        "print(\"\")\n",
        "a = 90000\n",
        "b = 30000\n",
        "c = 10000\n",
        "\n",
        "hasil = (a + b + c)\n",
        "\n",
        "print (\"Pesanan beni \" + str(hasil))\n",
        "print(\"\")\n",
        "a = 45000\n",
        "\n",
        "hasil = (a)\n",
        "\n",
        "print (\"Pesanan citra \" + str(hasil))\n",
        "print(\"\")\n",
        "a = 48000\n",
        "b = 30000\n",
        "\n",
        "hasil = (a + b)\n",
        "\n",
        "print (\"Pesanan dadang \" + str(hasil))\n",
        "print(\"\")\n",
        "a = 30000\n",
        "b = 15000\n",
        "c = 52000\n",
        "hasil = (a + b + c)\n",
        "\n",
        "print (\"Pesanan epen \" + str(hasil))\n",
        "print(\"\")\n",
        "hasil = 200000 + 130000 + 45000 + 78000 + 97000\n",
        "print (\"Jadi seluruh jumlah pesanan nya adalah Rp\" + str(hasil))\n",
        "\n",
        "print(\"=====KE 2=====\")\n",
        "\n",
        "a = (24000)\n",
        "b = (52000)\n",
        "c = (30000)\n",
        "d = (7500)\n",
        "e = (10000)\n",
        "f = (15000)\n",
        "\n",
        "burger1 = 6\n",
        "pizza1 = 3\n",
        "dimsun1 = 4\n",
        "ekado1 = 4\n",
        "milkshake1 = 2\n",
        "eskrim1 = 3\n",
        "jb1 = burger1 + pizza1 + dimsun1 + ekado1 + milkshake1 + eskrim1\n",
        "a = (burger1 / 24)\n",
        "b = (pizza1 / 24)\n",
        "c = (dimsun1 / 24)\n",
        "d = (ekado1 / 24)\n",
        "e = (milkshake1 / 24)\n",
        "f = (eskrim1 / 24)\n",
        "\n",
        "print(a)\n",
        "print(b)\n",
        "print(c)\n",
        "print(d)\n",
        "print(e)\n",
        "print(f)\n",
        "\n",
        "print(\"\")\n",
        "\n",
        "fig = plt.figure()\n",
        "ax = fig.add_axes([0,0,1,1])\n",
        "ax.axis('equal')\n",
        "plt.title(\"Data siswa ppdb smk al-madani\")\n",
        "makanan = ['Burger', 'pizza', 'dimsun', 'ekkado', 'milksake', 'eskrim' ]\n",
        "jml = [0.25, 0.125, 0.1666, 0.1666, 0.8333, 0.8333]\n",
        "ax.pie(jml,labels=makanan,autopct='%1.2f%%')\n",
        "plt.show()\n"
      ],
      "metadata": {
        "colab": {
          "base_uri": "https://localhost:8080/",
          "height": 700
        },
        "id": "9jPcooS6RgDU",
        "outputId": "dd9db42e-69a6-412c-ce1a-c5cc737ffb7c"
      },
      "execution_count": null,
      "outputs": [
        {
          "output_type": "stream",
          "name": "stdout",
          "text": [
            "====NUMBER 1=====\n",
            "Pesanan ahmad 200000\n",
            "\n",
            "Pesanan beni 130000\n",
            "\n",
            "Pesanan citra 45000\n",
            "\n",
            "Pesanan dadang 78000\n",
            "\n",
            "Pesanan epen 97000\n",
            "\n",
            "Jadi seluruh jumlah pesanan nya adalah Rp550000\n",
            "=====KE 2=====\n",
            "0.25\n",
            "0.125\n",
            "0.16666666666666666\n",
            "0.16666666666666666\n",
            "0.08333333333333333\n",
            "0.125\n",
            "\n"
          ]
        },
        {
          "output_type": "display_data",
          "data": {
            "text/plain": [
              "<Figure size 432x288 with 1 Axes>"
            ],
            "image/png": "[encoded data removed]"
          },
          "metadata": {}
        }
      ]
    },
    {
      "cell_type": "code",
      "source": [
        "a = 7.5\n",
        "b = 2000\n",
        "hasil = (7.5 * 2000)\n",
        "print(hasil)\n",
        "\n",
        "a = 4\n",
        "b = 1800\n",
        "hasil = (4 * 1800)\n",
        "print(hasil)\n",
        "\n",
        "a = 8\n",
        "b = 2000\n",
        "hasil = (8 * 2000)\n",
        "print(hasil)\n",
        "\n",
        "a = 5\n",
        "b = 1800\n",
        "hasil = (5 * 1800)\n",
        "print(hasil)\n",
        "\n",
        "a = 12\n",
        "b = 2200\n",
        "hasil = (12 * 2200)\n",
        "print(hasil)\n",
        "\n",
        "hasil = (15000 + 7200 + 16000 + 9000 + 26400)\n",
        "print('maka seluruh jumlah ongkos kirim pembeli adalah Rp' + str(hasil))\n",
        "\n",
        "\n"
      ],
      "metadata": {
        "colab": {
          "base_uri": "https://localhost:8080/"
        },
        "id": "bqGGR5j2nrJL",
        "outputId": "fb36caeb-70ac-46f5-e42f-ddcba6a4d85d"
      },
      "execution_count": null,
      "outputs": [
        {
          "output_type": "stream",
          "name": "stdout",
          "text": [
            "15000.0\n",
            "7200\n",
            "16000\n",
            "9000\n",
            "26400\n",
            "maka seluruh jumlah ongkos kirim pembeli adalah Rp73600\n"
          ]
        }
      ]
    },
    {
      "cell_type": "code",
      "source": [
        "print('ahmad')\n",
        "burger = 4\n",
        "pizza = 2\n",
        "ahmad = (0.70 * ((burger * 24000) + (pizza * 52000))) + (7.5 * 2000) - 5000\n",
        "print('total pesanan ahmad adalah Rp' + str(ahmad))\n",
        "hasil = 200000 - ahmad\n",
        "print('maka total kembalian ahmad adalah Rp' + str(hasil))\n",
        "print('beni')\n",
        "dimsun = 3\n",
        "eskrim = 1\n",
        "milksek = 2\n",
        "beni = (0.70 * ((dimsun * 30000) + (eskrim * 15000) + (milksek * 10000))) + (4 * 1800) - 5000\n",
        "print('total pesanan ahmad adalah Rp' + str(beni))\n",
        "hasil1 = 150000 - beni\n",
        "print('maka total kembalian ahmad adalah Rp' + str(hasil1))\n",
        "print('citra')\n",
        "eskrim = 3\n",
        "citra = (eskrim * 15000) + (8 * 2000) - 5000\n",
        "print('total pesanan ahmad adalah Rp' + str(citra))\n",
        "hasil2 = 60000 - citra\n",
        "print('maka total kembalian ahmad adalah Rp' + str(hasil2))\n",
        "print('dadang')\n",
        "burger3 = 2\n",
        "dimsun3 = 1\n",
        "dadang = (0.80 * ((burger3 * 24000) + (dimsun3 * 30000))) + (5 * 1800) - 5000\n",
        "print('total pesanan ahmad adalah Rp' + str(dadang))\n",
        "hasil3 = 100000 - dadang\n",
        "print('maka total kembalian ahmad adalah Rp' + str(hasil3))\n",
        "print('epen')\n",
        "ekado4 = 4\n",
        "eskrim4 = 1\n",
        "pizza4 = 1 \n",
        "epen = (0.70 * ((ekado4 * 7500) + (eskrim4 * 15000) + (pizza4 * 52000 ))) + (12 * 2200) - 5000\n",
        "print('total pesanan ahmad adalah Rp' + str(epen))\n",
        "hasil4 = 100000 - epen\n",
        "print('maka total kembalian ahmad adalah Rp' + str(hasil4))\n"
      ],
      "metadata": {
        "colab": {
          "base_uri": "https://localhost:8080/"
        },
        "id": "EI4cF8tkvepr",
        "outputId": "f7f56d53-84ea-4a0a-87ef-9aab0f215729"
      },
      "execution_count": null,
      "outputs": [
        {
          "output_type": "stream",
          "name": "stdout",
          "text": [
            "ahmad\n",
            "total pesanan ahmad adalah Rp150000.0\n",
            "maka total kembalian ahmad adalah Rp50000.0\n",
            "beni\n",
            "total pesanan ahmad adalah Rp89700.0\n",
            "maka total kembalian ahmad adalah Rp60300.0\n",
            "citra\n",
            "total pesanan ahmad adalah Rp56000\n",
            "maka total kembalian ahmad adalah Rp4000\n",
            "dadang\n",
            "total pesanan ahmad adalah Rp66400.0\n",
            "maka total kembalian ahmad adalah Rp33600.0\n",
            "epen\n",
            "total pesanan ahmad adalah Rp89300.0\n",
            "maka total kembalian ahmad adalah Rp10700.0\n"
          ]
        }
      ]
    },
    {
      "cell_type": "code",
      "source": [
        "print('=====soal ke 4=========')\n",
        "print('ahmad')\n",
        "burger = 4\n",
        "pizza = 2\n",
        "ahmad = (0.30 * ((burger * 24000) + (pizza * 52000))) + 5000\n",
        "print('maka jumlah potongan ahmad : Rp' + str(ahmad))\n",
        "\n",
        "print('beni')\n",
        "dimsun = 3\n",
        "eskrim = 1\n",
        "milksek = 2\n",
        "beni = (0.30 * ((dimsun * 30000) + (eskrim * 15000) + (milksek * 10000))) + 5000\n",
        "print('total pesanan ahmad adalah Rp' + str(beni))\n",
        "print('citra')\n",
        "eskrim = 3\n",
        "citra = 0 * (eskrim * 15000) + 5000\n",
        "print('total pesanan ahmad adalah Rp' + str(citra))\n",
        "print('dadang')\n",
        "burger3 = 2\n",
        "dimsun3 = 1\n",
        "dadang = (0.20 * ((burger3 * 24000) + (dimsun3 * 30000))) + 5000\n",
        "print('total pesanan ahmad adalah Rp' + str(dadang))\n",
        "print('epen')\n",
        "ekado4 = 4\n",
        "eskrim4 = 1\n",
        "pizza4 = 1 \n",
        "epen = (0.30 * ((ekado4 * 7500) + (eskrim4 * 15000) + (pizza4 * 52000 ))) + 5000\n",
        "print('total pesanan ahmad adalah Rp' + str(epen))\n"
      ],
      "metadata": {
        "colab": {
          "base_uri": "https://localhost:8080/"
        },
        "id": "dbwFFHynpDx9",
        "outputId": "b80f927e-5ca9-4a6a-f4b8-a3e0737252a5"
      },
      "execution_count": null,
      "outputs": [
        {
          "output_type": "stream",
          "name": "stdout",
          "text": [
            "=====soal ke 4=========\n",
            "ahmad\n",
            "maka jumlah potongan ahmad : Rp65000.0\n",
            "beni\n",
            "total pesanan ahmad adalah Rp42500.0\n",
            "citra\n",
            "total pesanan ahmad adalah Rp5000\n",
            "dadang\n",
            "total pesanan ahmad adalah Rp20600.0\n",
            "epen\n",
            "total pesanan ahmad adalah Rp34100.0\n"
          ]
        }
      ]
    }
  ]
}